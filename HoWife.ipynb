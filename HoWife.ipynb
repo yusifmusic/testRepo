{
 "cells": [
  {
   "cell_type": "markdown",
   "id": "d7a886ef-aafe-4099-a3a7-ea8b9d912893",
   "metadata": {},
   "source": [
    "# My Wife is a Ho\n",
    "Didn't you know?"
   ]
  },
  {
   "cell_type": "code",
   "execution_count": 1,
   "id": "8fc6d5a4-5b8b-4333-9a11-d498d58c1416",
   "metadata": {},
   "outputs": [
    {
     "name": "stdout",
     "output_type": "stream",
     "text": [
      "3\n"
     ]
    }
   ],
   "source": [
    "x=1\n",
    "y=2\n",
    "print(x+y)"
   ]
  },
  {
   "cell_type": "markdown",
   "id": "5402f3be-0707-47f0-bf01-85df94797fe1",
   "metadata": {},
   "source": [
    "## She is such a damn ho"
   ]
  },
  {
   "cell_type": "code",
   "execution_count": 3,
   "id": "b367c2f8-46cc-4b11-9dd6-ead09f176b07",
   "metadata": {},
   "outputs": [
    {
     "name": "stdout",
     "output_type": "stream",
     "text": [
      "5\n"
     ]
    }
   ],
   "source": [
    "print(max(1,3,5))"
   ]
  },
  {
   "cell_type": "code",
   "execution_count": null,
   "id": "c461f0de-c7e6-4604-92cf-77357eeb3913",
   "metadata": {},
   "outputs": [],
   "source": []
  }
 ],
 "metadata": {
  "kernelspec": {
   "display_name": "Python 3 (ipykernel)",
   "language": "python",
   "name": "python3"
  },
  "language_info": {
   "codemirror_mode": {
    "name": "ipython",
    "version": 3
   },
   "file_extension": ".py",
   "mimetype": "text/x-python",
   "name": "python",
   "nbconvert_exporter": "python",
   "pygments_lexer": "ipython3",
   "version": "3.13.7"
  }
 },
 "nbformat": 4,
 "nbformat_minor": 5
}
